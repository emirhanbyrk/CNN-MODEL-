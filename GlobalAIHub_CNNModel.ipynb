{
  "nbformat": 4,
  "nbformat_minor": 0,
  "metadata": {
    "colab": {
      "provenance": [],
      "collapsed_sections": [],
      "include_colab_link": true
    },
    "kernelspec": {
      "name": "python3",
      "display_name": "Python 3"
    },
    "language_info": {
      "name": "python"
    },
    "accelerator": "TPU"
  },
  "cells": [
    {
      "cell_type": "markdown",
      "metadata": {
        "id": "view-in-github",
        "colab_type": "text"
      },
      "source": [
        "<a href=\"https://colab.research.google.com/github/emirhanbyrk/CNN-MODEL-/blob/main/GlobalAIHub_CNNModel.ipynb\" target=\"_parent\"><img src=\"https://colab.research.google.com/assets/colab-badge.svg\" alt=\"Open In Colab\"/></a>"
      ]
    },
    {
      "cell_type": "code",
      "execution_count": null,
      "metadata": {
        "id": "97eB3iNv79pd",
        "colab": {
          "base_uri": "https://localhost:8080/"
        },
        "outputId": "e2d47e3e-bb9a-40df-f94f-4cc7c9a77f5e"
      },
      "outputs": [
        {
          "output_type": "stream",
          "name": "stdout",
          "text": [
            "Mounted at /content/drive/\n"
          ]
        }
      ],
      "source": [
        "#Reading\n",
        "\n",
        "import numpy as np\n",
        "import cv2 \n",
        "from google.colab.patches import cv2_imshow\n",
        "from google.colab import drive\n",
        "import glob \n",
        "\n",
        "drive.mount(\"/content/drive/\")\n",
        "image0 = [cv2.imread(file) for file in glob.glob (\"/content/drive/MyDrive/spectrograms/0/*.png\")]\n",
        "image1 = [cv2.imread(file) for file in glob.glob (\"/content/drive/MyDrive/spectrograms/1/*.png\")]\n",
        "image2 = [cv2.imread(file) for file in glob.glob (\"/content/drive/MyDrive/spectrograms/2/*.png\")]\n",
        "image3 = [cv2.imread(file) for file in glob.glob (\"/content/drive/MyDrive/spectrograms/3/*.png\")]\n",
        "image4 = [cv2.imread(file) for file in glob.glob (\"/content/drive/MyDrive/spectrograms/4/*.png\")]\n",
        "image5 = [cv2.imread(file) for file in glob.glob (\"/content/drive/MyDrive/spectrograms/5/*.png\")]\n",
        "image6 = [cv2.imread(file) for file in glob.glob (\"/content/drive/MyDrive/spectrograms/6/*.png\")]\n",
        "image7 = [cv2.imread(file) for file in glob.glob (\"/content/drive/MyDrive/spectrograms/7/*.png\")]\n",
        "image8 = [cv2.imread(file) for file in glob.glob (\"/content/drive/MyDrive/spectrograms/8/*.png\")]\n",
        "image9 = [cv2.imread(file) for file in glob.glob (\"/content/drive/MyDrive/spectrograms/9/*.png\")]\n",
        "\n",
        "\n"
      ]
    },
    {
      "cell_type": "code",
      "source": [
        "#Grayscale\n",
        "\n",
        "import numpy as np\n",
        "import cv2 \n",
        "from google.colab.patches import cv2_imshow\n",
        "from google.colab import drive\n",
        "import glob \n",
        "drive.mount(\"/content/drive/\")\n",
        "\n",
        "gray0 = [cv2.imread(file,0) for file in glob.glob (\"/content/drive/MyDrive/spectrograms/0/*.png\")]\n",
        "gray1 = [cv2.imread(file,0) for file in glob.glob (\"/content/drive/MyDrive/spectrograms/1/*.png\")]\n",
        "gray2 = [cv2.imread(file,0) for file in glob.glob (\"/content/drive/MyDrive/spectrograms/2/*.png\")]\n",
        "gray3 = [cv2.imread(file,0) for file in glob.glob (\"/content/drive/MyDrive/spectrograms/3/*.png\")]\n",
        "gray4 = [cv2.imread(file,0) for file in glob.glob (\"/content/drive/MyDrive/spectrograms/4/*.png\")]\n",
        "gray5 = [cv2.imread(file,0) for file in glob.glob (\"/content/drive/MyDrive/spectrograms/5/*.png\")]\n",
        "gray6 = [cv2.imread(file,0) for file in glob.glob (\"/content/drive/MyDrive/spectrograms/6/*.png\")]\n",
        "gray7 = [cv2.imread(file,0) for file in glob.glob (\"/content/drive/MyDrive/spectrograms/7/*.png\")]\n",
        "gray8 = [cv2.imread(file,0) for file in glob.glob (\"/content/drive/MyDrive/spectrograms/8/*.png\")]\n",
        "gray9 = [cv2.imread(file,0) for file in glob.glob (\"/content/drive/MyDrive/spectrograms/9/*.png\")]"
      ],
      "metadata": {
        "id": "PK9FJJmpBY0C",
        "colab": {
          "base_uri": "https://localhost:8080/"
        },
        "outputId": "862edb34-3dee-49dd-acac-9253c2b2c350"
      },
      "execution_count": 1,
      "outputs": [
        {
          "output_type": "stream",
          "name": "stdout",
          "text": [
            "Drive already mounted at /content/drive/; to attempt to forcibly remount, call drive.mount(\"/content/drive/\", force_remount=True).\n"
          ]
        }
      ]
    },
    {
      "cell_type": "code",
      "source": [
        "#Resizing\n",
        "import os\n",
        "import pandas as pd\n",
        "import numpy as np\n",
        "\n",
        "newsize = (128,128)\n",
        "normalizedImg = np.zeros(newsize)\n",
        "degerler = []\n",
        "\n",
        "all_gray = []\n",
        "all_gray.append(gray0)\n",
        "all_gray.append(gray1)\n",
        "all_gray.append(gray2)\n",
        "all_gray.append(gray3)\n",
        "all_gray.append(gray4)\n",
        "all_gray.append(gray5)\n",
        "all_gray.append(gray6)\n",
        "all_gray.append(gray7)\n",
        "all_gray.append(gray8)\n",
        "all_gray.append(gray9)\n",
        "\n",
        "for sayi in range(0,10):\n",
        "  for i in range(0,len(all_gray[sayi])):\n",
        "    resized0 = cv2.resize(gray0[i],newsize, interpolation = cv2.INTER_AREA)\n",
        "    normal0 = cv2.normalize(resized0,normalizedImg,0,255,cv2.NORM_MINMAX)\n",
        "    path0 = glob.glob(f\"/content/drive/MyDrive/spectrograms/{sayi}/*.png\")\n",
        "    fn = os.path.basename(path0[i])\n",
        "    file_name = os.path.splitext(fn)[0]\n",
        "    dosya_no = sayi\n",
        "    degerler.append([file_name, normal0, sayi])\n",
        "  print(f\"{sayi}. klasör oldu\")\n",
        "  \n",
        "columns = ['Name', 'Picture', 'File']\n",
        "all_images = pd.DataFrame.from_records(degerler, columns=columns)\n",
        "all_images.to_csv(r\"all_images.csv\", encoding=\"utf-8\", index=False)\n",
        "  \n"
      ],
      "metadata": {
        "id": "YesboG_HEjqC",
        "colab": {
          "base_uri": "https://localhost:8080/"
        },
        "outputId": "bff7dc0f-57a7-4a3c-ba54-7dfd22e3b9a9"
      },
      "execution_count": 2,
      "outputs": [
        {
          "output_type": "stream",
          "name": "stdout",
          "text": [
            "0. klasör oldu\n",
            "1. klasör oldu\n",
            "2. klasör oldu\n",
            "3. klasör oldu\n",
            "4. klasör oldu\n",
            "5. klasör oldu\n",
            "6. klasör oldu\n",
            "7. klasör oldu\n",
            "8. klasör oldu\n",
            "9. klasör oldu\n"
          ]
        }
      ]
    },
    {
      "cell_type": "code",
      "source": [
        "pd.read_csv('all_images.csv')"
      ],
      "metadata": {
        "colab": {
          "base_uri": "https://localhost:8080/",
          "height": 424
        },
        "id": "XTbu2N_Jfqbe",
        "outputId": "72e3c73a-2547-40b3-9887-79698beb390f"
      },
      "execution_count": 3,
      "outputs": [
        {
          "output_type": "execute_result",
          "data": {
            "text/plain": [
              "               Name                                            Picture  File\n",
              "0     100852-0-0-10  [[255  67   0 ...   0   0   0]\\n [255  68   0 ...     0\n",
              "1      100852-0-0-1  [[255  67   0 ...   0   0   0]\\n [255  68   0 ...     0\n",
              "2      100852-0-0-0  [[255  67   0 ...   0   0   0]\\n [255  68   0 ...     0\n",
              "3     100852-0-0-12  [[255  67   0 ...   0   0   0]\\n [255  68   0 ...     0\n",
              "4     100852-0-0-11  [[255  67   0 ...   0   0   0]\\n [255  68   0 ...     0\n",
              "...             ...                                                ...   ...\n",
              "8727   99710-9-0-12  [[255  67   0 ...   0   0   0]\\n [255  68   0 ...     9\n",
              "8728   99710-9-0-16  [[255  67   0 ...   0   0   0]\\n [255  68   0 ...     9\n",
              "8729    99710-9-0-5  [[255  67   0 ...   0   0   0]\\n [255  68   0 ...     9\n",
              "8730    99710-9-0-2  [[255  67   0 ...   0   0   0]\\n [255  68   0 ...     9\n",
              "8731    99710-9-0-6  [[255  67   0 ...   0   0   0]\\n [255  68   0 ...     9\n",
              "\n",
              "[8732 rows x 3 columns]"
            ],
            "text/html": [
              "\n",
              "  <div id=\"df-587e9468-e9a5-4da8-9e66-a6b98dd40a77\">\n",
              "    <div class=\"colab-df-container\">\n",
              "      <div>\n",
              "<style scoped>\n",
              "    .dataframe tbody tr th:only-of-type {\n",
              "        vertical-align: middle;\n",
              "    }\n",
              "\n",
              "    .dataframe tbody tr th {\n",
              "        vertical-align: top;\n",
              "    }\n",
              "\n",
              "    .dataframe thead th {\n",
              "        text-align: right;\n",
              "    }\n",
              "</style>\n",
              "<table border=\"1\" class=\"dataframe\">\n",
              "  <thead>\n",
              "    <tr style=\"text-align: right;\">\n",
              "      <th></th>\n",
              "      <th>Name</th>\n",
              "      <th>Picture</th>\n",
              "      <th>File</th>\n",
              "    </tr>\n",
              "  </thead>\n",
              "  <tbody>\n",
              "    <tr>\n",
              "      <th>0</th>\n",
              "      <td>100852-0-0-10</td>\n",
              "      <td>[[255  67   0 ...   0   0   0]\\n [255  68   0 ...</td>\n",
              "      <td>0</td>\n",
              "    </tr>\n",
              "    <tr>\n",
              "      <th>1</th>\n",
              "      <td>100852-0-0-1</td>\n",
              "      <td>[[255  67   0 ...   0   0   0]\\n [255  68   0 ...</td>\n",
              "      <td>0</td>\n",
              "    </tr>\n",
              "    <tr>\n",
              "      <th>2</th>\n",
              "      <td>100852-0-0-0</td>\n",
              "      <td>[[255  67   0 ...   0   0   0]\\n [255  68   0 ...</td>\n",
              "      <td>0</td>\n",
              "    </tr>\n",
              "    <tr>\n",
              "      <th>3</th>\n",
              "      <td>100852-0-0-12</td>\n",
              "      <td>[[255  67   0 ...   0   0   0]\\n [255  68   0 ...</td>\n",
              "      <td>0</td>\n",
              "    </tr>\n",
              "    <tr>\n",
              "      <th>4</th>\n",
              "      <td>100852-0-0-11</td>\n",
              "      <td>[[255  67   0 ...   0   0   0]\\n [255  68   0 ...</td>\n",
              "      <td>0</td>\n",
              "    </tr>\n",
              "    <tr>\n",
              "      <th>...</th>\n",
              "      <td>...</td>\n",
              "      <td>...</td>\n",
              "      <td>...</td>\n",
              "    </tr>\n",
              "    <tr>\n",
              "      <th>8727</th>\n",
              "      <td>99710-9-0-12</td>\n",
              "      <td>[[255  67   0 ...   0   0   0]\\n [255  68   0 ...</td>\n",
              "      <td>9</td>\n",
              "    </tr>\n",
              "    <tr>\n",
              "      <th>8728</th>\n",
              "      <td>99710-9-0-16</td>\n",
              "      <td>[[255  67   0 ...   0   0   0]\\n [255  68   0 ...</td>\n",
              "      <td>9</td>\n",
              "    </tr>\n",
              "    <tr>\n",
              "      <th>8729</th>\n",
              "      <td>99710-9-0-5</td>\n",
              "      <td>[[255  67   0 ...   0   0   0]\\n [255  68   0 ...</td>\n",
              "      <td>9</td>\n",
              "    </tr>\n",
              "    <tr>\n",
              "      <th>8730</th>\n",
              "      <td>99710-9-0-2</td>\n",
              "      <td>[[255  67   0 ...   0   0   0]\\n [255  68   0 ...</td>\n",
              "      <td>9</td>\n",
              "    </tr>\n",
              "    <tr>\n",
              "      <th>8731</th>\n",
              "      <td>99710-9-0-6</td>\n",
              "      <td>[[255  67   0 ...   0   0   0]\\n [255  68   0 ...</td>\n",
              "      <td>9</td>\n",
              "    </tr>\n",
              "  </tbody>\n",
              "</table>\n",
              "<p>8732 rows × 3 columns</p>\n",
              "</div>\n",
              "      <button class=\"colab-df-convert\" onclick=\"convertToInteractive('df-587e9468-e9a5-4da8-9e66-a6b98dd40a77')\"\n",
              "              title=\"Convert this dataframe to an interactive table.\"\n",
              "              style=\"display:none;\">\n",
              "        \n",
              "  <svg xmlns=\"http://www.w3.org/2000/svg\" height=\"24px\"viewBox=\"0 0 24 24\"\n",
              "       width=\"24px\">\n",
              "    <path d=\"M0 0h24v24H0V0z\" fill=\"none\"/>\n",
              "    <path d=\"M18.56 5.44l.94 2.06.94-2.06 2.06-.94-2.06-.94-.94-2.06-.94 2.06-2.06.94zm-11 1L8.5 8.5l.94-2.06 2.06-.94-2.06-.94L8.5 2.5l-.94 2.06-2.06.94zm10 10l.94 2.06.94-2.06 2.06-.94-2.06-.94-.94-2.06-.94 2.06-2.06.94z\"/><path d=\"M17.41 7.96l-1.37-1.37c-.4-.4-.92-.59-1.43-.59-.52 0-1.04.2-1.43.59L10.3 9.45l-7.72 7.72c-.78.78-.78 2.05 0 2.83L4 21.41c.39.39.9.59 1.41.59.51 0 1.02-.2 1.41-.59l7.78-7.78 2.81-2.81c.8-.78.8-2.07 0-2.86zM5.41 20L4 18.59l7.72-7.72 1.47 1.35L5.41 20z\"/>\n",
              "  </svg>\n",
              "      </button>\n",
              "      \n",
              "  <style>\n",
              "    .colab-df-container {\n",
              "      display:flex;\n",
              "      flex-wrap:wrap;\n",
              "      gap: 12px;\n",
              "    }\n",
              "\n",
              "    .colab-df-convert {\n",
              "      background-color: #E8F0FE;\n",
              "      border: none;\n",
              "      border-radius: 50%;\n",
              "      cursor: pointer;\n",
              "      display: none;\n",
              "      fill: #1967D2;\n",
              "      height: 32px;\n",
              "      padding: 0 0 0 0;\n",
              "      width: 32px;\n",
              "    }\n",
              "\n",
              "    .colab-df-convert:hover {\n",
              "      background-color: #E2EBFA;\n",
              "      box-shadow: 0px 1px 2px rgba(60, 64, 67, 0.3), 0px 1px 3px 1px rgba(60, 64, 67, 0.15);\n",
              "      fill: #174EA6;\n",
              "    }\n",
              "\n",
              "    [theme=dark] .colab-df-convert {\n",
              "      background-color: #3B4455;\n",
              "      fill: #D2E3FC;\n",
              "    }\n",
              "\n",
              "    [theme=dark] .colab-df-convert:hover {\n",
              "      background-color: #434B5C;\n",
              "      box-shadow: 0px 1px 3px 1px rgba(0, 0, 0, 0.15);\n",
              "      filter: drop-shadow(0px 1px 2px rgba(0, 0, 0, 0.3));\n",
              "      fill: #FFFFFF;\n",
              "    }\n",
              "  </style>\n",
              "\n",
              "      <script>\n",
              "        const buttonEl =\n",
              "          document.querySelector('#df-587e9468-e9a5-4da8-9e66-a6b98dd40a77 button.colab-df-convert');\n",
              "        buttonEl.style.display =\n",
              "          google.colab.kernel.accessAllowed ? 'block' : 'none';\n",
              "\n",
              "        async function convertToInteractive(key) {\n",
              "          const element = document.querySelector('#df-587e9468-e9a5-4da8-9e66-a6b98dd40a77');\n",
              "          const dataTable =\n",
              "            await google.colab.kernel.invokeFunction('convertToInteractive',\n",
              "                                                     [key], {});\n",
              "          if (!dataTable) return;\n",
              "\n",
              "          const docLinkHtml = 'Like what you see? Visit the ' +\n",
              "            '<a target=\"_blank\" href=https://colab.research.google.com/notebooks/data_table.ipynb>data table notebook</a>'\n",
              "            + ' to learn more about interactive tables.';\n",
              "          element.innerHTML = '';\n",
              "          dataTable['output_type'] = 'display_data';\n",
              "          await google.colab.output.renderOutput(dataTable, element);\n",
              "          const docLink = document.createElement('div');\n",
              "          docLink.innerHTML = docLinkHtml;\n",
              "          element.appendChild(docLink);\n",
              "        }\n",
              "      </script>\n",
              "    </div>\n",
              "  </div>\n",
              "  "
            ]
          },
          "metadata": {},
          "execution_count": 3
        }
      ]
    },
    {
      "cell_type": "code",
      "source": [
        "# Creating train, test and validation data set for x and y\n",
        "import pandas as pd\n",
        "import numpy as np\n",
        "import matplotlib.pyplot as plt\n",
        "\n",
        "from sklearn.preprocessing import LabelEncoder, minmax_scale\n",
        "from sklearn.model_selection import train_test_split\n",
        "\n",
        "x = all_images['Picture']\n",
        "\n",
        "y = all_images.loc[:,'File']\n",
        "\n",
        "encoder = LabelEncoder()\n",
        "y = encoder.fit_transform(y)\n",
        "x_train, x_temporary, y_train, y_temporary = train_test_split(x, y, train_size=0.8, random_state=42) \n",
        "x_val, x_test, y_val, y_test = train_test_split(x_temporary, y_temporary, test_size=0.5, random_state=42)"
      ],
      "metadata": {
        "id": "X9oKRF05zkwO"
      },
      "execution_count": 4,
      "outputs": []
    },
    {
      "cell_type": "code",
      "source": [
        "import tensorflow as tf\n",
        "from tensorflow import keras\n",
        "model = tf.keras.Sequential()"
      ],
      "metadata": {
        "id": "jPyhGIJN5jYI"
      },
      "execution_count": 5,
      "outputs": []
    },
    {
      "cell_type": "code",
      "source": [
        "# Add a convolution and max pooling layer\n",
        "model.add(tf.keras.layers.Conv2D(32,\n",
        "                                  kernel_size = (3,3),\n",
        "                                  strides = (1,1),\n",
        "                                  padding = 'same',\n",
        "                                  activation = 'relu',\n",
        "                                  input_shape = (128, 128,1)))\n",
        "\n",
        "model.add(tf.keras.layers.MaxPooling2D((2,2)))\n",
        "\n",
        "model.add(tf.keras.layers.Conv2D(64,\n",
        "                                  kernel_size = (3,3),\n",
        "                                  strides = (2,2),\n",
        "                                  padding = 'same',\n",
        "                                  activation = 'relu',\n",
        "                                  input_shape = (128, 128,1)))\n",
        "\n",
        "model.add(tf.keras.layers.MaxPooling2D((2,2)))\n",
        "\n",
        "\n",
        "model.add(tf.keras.layers.Conv2D(64,\n",
        "                                  kernel_size = (2,2),\n",
        "                                  strides = (1,1),\n",
        "                                  padding = 'same',\n",
        "                                  activation = 'relu',\n",
        "                                  input_shape = (128, 128,1)))\n",
        "\n",
        "model.add(tf.keras.layers.MaxPooling2D((2,2)))"
      ],
      "metadata": {
        "id": "JQXP2OIX5P4g"
      },
      "execution_count": 6,
      "outputs": []
    },
    {
      "cell_type": "code",
      "source": [
        "# Add/Create latten the convolution layer\n",
        "model.add(tf.keras.layers.Flatten())"
      ],
      "metadata": {
        "id": "xHsFA8l05Pxy"
      },
      "execution_count": 7,
      "outputs": []
    },
    {
      "cell_type": "code",
      "source": [
        "# Add/Create the dense layer and dropout layer (twice)\n",
        "model.add(tf.keras.layers.Dense(64,input_shape=(128, 128),activation = 'relu'))\n",
        "model.add(tf.keras.layers.Dropout(0.5))\n",
        "\n",
        "model.add(tf.keras.layers.Dense(64, input_shape=(128, 128), activation = 'relu'))\n",
        "model.add(tf.keras.layers.Dropout(0.5))\n"
      ],
      "metadata": {
        "id": "snGwn3in5PrU"
      },
      "execution_count": 8,
      "outputs": []
    },
    {
      "cell_type": "code",
      "source": [
        "# Add/Create the output layer\n",
        "model.add(tf.keras.layers.Dense(10, input_shape=(128, 128), activation='softmax'))"
      ],
      "metadata": {
        "id": "MfeA7I7-5ui3"
      },
      "execution_count": 9,
      "outputs": []
    },
    {
      "cell_type": "code",
      "source": [
        "# We need to change data type because we get a unsupported object error\n",
        "x_train = np.array([np.array(train) for train in x_train])\n",
        "x_val = np.array([np.array(val) for val in x_val])\n",
        "x_test = np.array([np.array(test) for test in x_test])\n"
      ],
      "metadata": {
        "id": "xn459ryE_RiL"
      },
      "execution_count": 10,
      "outputs": []
    },
    {
      "cell_type": "code",
      "source": [
        "#Check\n",
        "x_val.shape"
      ],
      "metadata": {
        "colab": {
          "base_uri": "https://localhost:8080/"
        },
        "id": "5zXAHtiDQLLB",
        "outputId": "c70efb1a-54f3-4c47-fa27-950c151d46e1"
      },
      "execution_count": 11,
      "outputs": [
        {
          "output_type": "execute_result",
          "data": {
            "text/plain": [
              "(873, 128, 128)"
            ]
          },
          "metadata": {},
          "execution_count": 11
        }
      ]
    },
    {
      "cell_type": "code",
      "source": [
        "# Train the model for 10 epochs with batch size of 128\n",
        "model.compile(optimizer='adam',\n",
        "                  loss='sparse_categorical_crossentropy',\n",
        "                  metrics=['accuracy'])\n",
        "results = model.fit(x_train, y_train, batch_size=128, epochs=10,validation_data=(x_val, y_val))"
      ],
      "metadata": {
        "colab": {
          "base_uri": "https://localhost:8080/"
        },
        "id": "JvBMSKy45wd6",
        "outputId": "4f74aa90-ebae-4e40-96d0-5f2cd71776b6"
      },
      "execution_count": 12,
      "outputs": [
        {
          "output_type": "stream",
          "name": "stdout",
          "text": [
            "Epoch 1/10\n",
            "55/55 [==============================] - 81s 1s/step - loss: 2.9788 - accuracy: 0.1084 - val_loss: 2.2947 - val_accuracy: 0.1031\n",
            "Epoch 2/10\n",
            "55/55 [==============================] - 78s 1s/step - loss: 2.2898 - accuracy: 0.1188 - val_loss: 2.2879 - val_accuracy: 0.1031\n",
            "Epoch 3/10\n",
            "55/55 [==============================] - 76s 1s/step - loss: 2.2829 - accuracy: 0.1134 - val_loss: 2.2825 - val_accuracy: 0.1065\n",
            "Epoch 4/10\n",
            "55/55 [==============================] - 76s 1s/step - loss: 2.2771 - accuracy: 0.1165 - val_loss: 2.2785 - val_accuracy: 0.1065\n",
            "Epoch 5/10\n",
            "55/55 [==============================] - 76s 1s/step - loss: 2.2728 - accuracy: 0.1173 - val_loss: 2.2749 - val_accuracy: 0.1065\n",
            "Epoch 6/10\n",
            "55/55 [==============================] - 76s 1s/step - loss: 2.2694 - accuracy: 0.1132 - val_loss: 2.2722 - val_accuracy: 0.1065\n",
            "Epoch 7/10\n",
            "55/55 [==============================] - 76s 1s/step - loss: 2.2668 - accuracy: 0.1157 - val_loss: 2.2704 - val_accuracy: 0.1065\n",
            "Epoch 8/10\n",
            "55/55 [==============================] - 76s 1s/step - loss: 2.2653 - accuracy: 0.1079 - val_loss: 2.2689 - val_accuracy: 0.1065\n",
            "Epoch 9/10\n",
            "55/55 [==============================] - 76s 1s/step - loss: 2.2628 - accuracy: 0.1221 - val_loss: 2.2678 - val_accuracy: 0.1065\n",
            "Epoch 10/10\n",
            "55/55 [==============================] - 76s 1s/step - loss: 2.2630 - accuracy: 0.1127 - val_loss: 2.2674 - val_accuracy: 0.1065\n"
          ]
        }
      ]
    },
    {
      "cell_type": "code",
      "source": [
        "# Create plot of the training loss and validation loss\n",
        "# Training loss\n",
        "plt.plot(results.history['loss'], label = 'loss')\n",
        "# Validation loss\n",
        "plt.plot(results.history['val_loss'], label = 'val_loss')\n",
        "\n",
        "# Name the x and y axises\n",
        "plt.xlabel('Epoch (Devir)')\n",
        "plt.ylabel('Loss (Kayıp)')\n",
        "\n",
        "# Put legend table\n",
        "plt.legend()\n",
        "\n",
        "# Show the plot\n",
        "plt.show()"
      ],
      "metadata": {
        "id": "kGbAByta5xCw",
        "colab": {
          "base_uri": "https://localhost:8080/",
          "height": 279
        },
        "outputId": "954f0ceb-2b93-40ca-e044-02466af210a6"
      },
      "execution_count": 13,
      "outputs": [
        {
          "output_type": "display_data",
          "data": {
            "text/plain": [
              "<Figure size 432x288 with 1 Axes>"
            ],
            "image/png": "[encoded data removed]"
          },
          "metadata": {
            "needs_background": "light"
          }
        }
      ]
    },
    {
      "cell_type": "code",
      "source": [
        "# Create plot of the training accuracy and validation accuracy\n",
        "# Training accuracy\n",
        "plt.plot(results.history['accuracy'], label = 'accuracy')\n",
        "\n",
        "\n",
        "# Validation accuracy\n",
        "plt.plot(results.history['val_accuracy'], label = 'val_accuracy')\n",
        "\n",
        "# Name the x and y axises\n",
        "plt.xlabel('Epoch (Devir)')\n",
        "plt.ylabel('Accuracy (Doğruluk)')\n",
        "\n",
        "# Put legend table\n",
        "plt.legend()\n",
        "\n",
        "# Show the plot\n",
        "plt.show()"
      ],
      "metadata": {
        "id": "D2v8EOp75w3V",
        "colab": {
          "base_uri": "https://localhost:8080/",
          "height": 279
        },
        "outputId": "ff802ba5-383c-4bca-a23e-8b44ccaa0489"
      },
      "execution_count": 14,
      "outputs": [
        {
          "output_type": "display_data",
          "data": {
            "text/plain": [
              "<Figure size 432x288 with 1 Axes>"
            ],
            "image/png": "[encoded data removed]"
          },
          "metadata": {
            "needs_background": "light"
          }
        }
      ]
    },
    {
      "cell_type": "code",
      "source": [
        "# Loss and accuracy values are in same plot\n",
        "plt.plot(results.history['accuracy'], label = 'accuracy')\n",
        "plt.plot(results.history['loss'], label = 'loss')\n",
        "\n",
        "\n",
        "# Name the x and y axises\n",
        "plt.xlabel('Epoch')\n",
        "plt.ylabel('Accuracy, loss')\n",
        "\n",
        "# Put legend table\n",
        "plt.legend()\n",
        "\n",
        "# Show the plot\n",
        "plt.show()"
      ],
      "metadata": {
        "id": "ymhKmSGH8h1t",
        "colab": {
          "base_uri": "https://localhost:8080/",
          "height": 279
        },
        "outputId": "0e2412b1-4feb-4a77-f55f-fe14aeae2a41"
      },
      "execution_count": 15,
      "outputs": [
        {
          "output_type": "display_data",
          "data": {
            "text/plain": [
              "<Figure size 432x288 with 1 Axes>"
            ],
            "image/png": "[encoded data removed]"
          },
          "metadata": {
            "needs_background": "light"
          }
        }
      ]
    },
    {
      "cell_type": "code",
      "source": [
        "# Evaluate the performance of model\n",
        "model.evaluate(x_test, y_test)"
      ],
      "metadata": {
        "id": "65_XQNz587-7",
        "colab": {
          "base_uri": "https://localhost:8080/"
        },
        "outputId": "f55687c3-1ddb-4e97-86eb-fb08d98d8f02"
      },
      "execution_count": 16,
      "outputs": [
        {
          "output_type": "stream",
          "name": "stdout",
          "text": [
            "28/28 [==============================] - 3s 107ms/step - loss: 2.2692 - accuracy: 0.1041\n"
          ]
        },
        {
          "output_type": "execute_result",
          "data": {
            "text/plain": [
              "[2.2692487239837646, 0.10411899536848068]"
            ]
          },
          "metadata": {},
          "execution_count": 16
        }
      ]
    },
    {
      "cell_type": "code",
      "source": [
        "#HYPERPARAMETER OPTIMIZATION\n",
        "def hyperparameter(padding = 'same', activation = 'relu', units = 10, optimizer='adam'):\n",
        "  model = tf.keras.Sequential()\n",
        "\n",
        "  model.add(tf.keras.layers.Conv2D(32,\n",
        "                              kernel_size = (3,3),\n",
        "                              strides = (1,1),\n",
        "                              padding = padding,\n",
        "                              activation = activation,\n",
        "                              input_shape = (128,128,1)))\n",
        "\n",
        "  model.add(tf.keras.layers.MaxPool2D((2,2)))\n",
        "  model.add(tf.keras.layers.Conv2D(64,\n",
        "                                kernel_size = (3,3),\n",
        "                                strides = (1,1),\n",
        "                                padding = padding,\n",
        "                                activation = activation,))\n",
        "\n",
        "  model.add(tf.keras.layers.MaxPool2D((2,2)))\n",
        "\n",
        "  model.add(tf.keras.layers.Conv2D(64,\n",
        "                                kernel_size = (3,3),\n",
        "                                strides = (1,1),\n",
        "                                padding = padding,\n",
        "                                activation = activation))\n",
        "  model.add(tf.keras.layers.MaxPool2D((2,2)))\n",
        "\n",
        "\n",
        "  model.add(tf.keras.layers.MaxPooling2D((2,2)))\n",
        "\n",
        "  model.add(tf.keras.layers.Flatten())\n",
        "\n",
        "  \n",
        "  model.add(tf.keras.layers.Dense(64, activation = activation))\n",
        "  model.add(tf.keras.layers.Dropout(0.5))\n",
        "\n",
        "  \n",
        "  model.add(tf.keras.layers.Dense(64, activation = activation))\n",
        "  model.add(tf.keras.layers.Dropout(0.5))\n",
        "\n",
        "  \n",
        "  model.add(tf.keras.layers.Dense(units, activation='softmax'))\n",
        "\n",
        "  \n",
        "  model.compile(optimizer= optimizer,\n",
        "                  loss='sparse_categorical_crossentropy',\n",
        "                  metrics=['accuracy'])\n",
        "  \n",
        "  return model\n",
        "\n"
      ],
      "metadata": {
        "id": "BdCAbr1l8744"
      },
      "execution_count": 17,
      "outputs": []
    },
    {
      "cell_type": "code",
      "source": [
        "def modelfitting(X_train, y_train, X_val,y_val,batch_size = 128, epochs = 10):\n",
        "  results = model.fit(X_train, y_train,\n",
        "                    batch_size = batch_size,\n",
        "                    epochs = epochs,\n",
        "                    validation_data = (X_val,y_val))\n",
        "  \n",
        "  return results"
      ],
      "metadata": {
        "id": "87N7wtj35mQR"
      },
      "execution_count": 18,
      "outputs": []
    },
    {
      "cell_type": "code",
      "source": [
        "activationL = ['relu', 'sigmoid', 'elu', 'exponential']\n",
        "scores = []\n",
        "\n",
        "for i in (activationL):\n",
        "  model = hyperparameter(activation = i)\n",
        "  results = modelfitting(x_train, y_train, x_val,y_val,epochs = 10)\n",
        "  loss_accuracy  = model.evaluate(x_test, y_test)\n",
        "  scores.append((i, loss_accuracy))  "
      ],
      "metadata": {
        "colab": {
          "base_uri": "https://localhost:8080/"
        },
        "id": "7e8tscCD5mMn",
        "outputId": "8fc7fad9-5bb9-4a78-b70d-d31d10f94fb4"
      },
      "execution_count": 19,
      "outputs": [
        {
          "output_type": "stream",
          "name": "stdout",
          "text": [
            "Epoch 1/10\n",
            "55/55 [==============================] - 178s 3s/step - loss: 3.1590 - accuracy: 0.1120 - val_loss: 2.2943 - val_accuracy: 0.1145\n",
            "Epoch 2/10\n",
            "55/55 [==============================] - 177s 3s/step - loss: 2.2899 - accuracy: 0.1137 - val_loss: 2.2864 - val_accuracy: 0.1145\n",
            "Epoch 3/10\n",
            "55/55 [==============================] - 176s 3s/step - loss: 2.2826 - accuracy: 0.1110 - val_loss: 2.2799 - val_accuracy: 0.1145\n",
            "Epoch 4/10\n",
            "55/55 [==============================] - 177s 3s/step - loss: 2.2750 - accuracy: 0.1191 - val_loss: 2.2748 - val_accuracy: 0.1145\n",
            "Epoch 5/10\n",
            "55/55 [==============================] - 176s 3s/step - loss: 2.2701 - accuracy: 0.1193 - val_loss: 2.2710 - val_accuracy: 0.1145\n",
            "Epoch 6/10\n",
            "55/55 [==============================] - 177s 3s/step - loss: 2.2671 - accuracy: 0.1131 - val_loss: 2.2686 - val_accuracy: 0.1145\n",
            "Epoch 7/10\n",
            "55/55 [==============================] - 177s 3s/step - loss: 2.2640 - accuracy: 0.1151 - val_loss: 2.2670 - val_accuracy: 0.1145\n",
            "Epoch 8/10\n",
            "55/55 [==============================] - 176s 3s/step - loss: 2.2614 - accuracy: 0.1188 - val_loss: 2.2662 - val_accuracy: 0.1145\n",
            "Epoch 9/10\n",
            "55/55 [==============================] - 176s 3s/step - loss: 2.2616 - accuracy: 0.1128 - val_loss: 2.2654 - val_accuracy: 0.1145\n",
            "Epoch 10/10\n",
            "55/55 [==============================] - 177s 3s/step - loss: 2.2607 - accuracy: 0.1148 - val_loss: 2.2653 - val_accuracy: 0.1145\n",
            "28/28 [==============================] - 6s 230ms/step - loss: 2.2680 - accuracy: 0.1064\n",
            "Epoch 1/10\n",
            "55/55 [==============================] - 184s 3s/step - loss: 2.4838 - accuracy: 0.1049 - val_loss: 2.2681 - val_accuracy: 0.0962\n",
            "Epoch 2/10\n",
            "55/55 [==============================] - 184s 3s/step - loss: 2.3608 - accuracy: 0.1128 - val_loss: 2.2663 - val_accuracy: 0.0962\n",
            "Epoch 3/10\n",
            "55/55 [==============================] - 184s 3s/step - loss: 2.3278 - accuracy: 0.1084 - val_loss: 2.2671 - val_accuracy: 0.0962\n",
            "Epoch 4/10\n",
            "55/55 [==============================] - 184s 3s/step - loss: 2.3029 - accuracy: 0.1141 - val_loss: 2.2660 - val_accuracy: 0.1065\n",
            "Epoch 5/10\n",
            "55/55 [==============================] - 184s 3s/step - loss: 2.2874 - accuracy: 0.1118 - val_loss: 2.2653 - val_accuracy: 0.1145\n",
            "Epoch 6/10\n",
            "55/55 [==============================] - 184s 3s/step - loss: 2.2829 - accuracy: 0.1127 - val_loss: 2.2656 - val_accuracy: 0.1031\n",
            "Epoch 7/10\n",
            "55/55 [==============================] - 184s 3s/step - loss: 2.2780 - accuracy: 0.1084 - val_loss: 2.2665 - val_accuracy: 0.1065\n",
            "Epoch 8/10\n",
            "55/55 [==============================] - 184s 3s/step - loss: 2.2714 - accuracy: 0.1148 - val_loss: 2.2657 - val_accuracy: 0.1065\n",
            "Epoch 9/10\n",
            "55/55 [==============================] - 184s 3s/step - loss: 2.2735 - accuracy: 0.1114 - val_loss: 2.2656 - val_accuracy: 0.1145\n",
            "Epoch 10/10\n",
            "55/55 [==============================] - 185s 3s/step - loss: 2.2704 - accuracy: 0.1104 - val_loss: 2.2659 - val_accuracy: 0.1145\n",
            "28/28 [==============================] - 7s 243ms/step - loss: 2.2689 - accuracy: 0.1064\n",
            "Epoch 1/10\n",
            "55/55 [==============================] - 200s 4s/step - loss: 4.1226 - accuracy: 0.1089 - val_loss: 2.2788 - val_accuracy: 0.1065\n",
            "Epoch 2/10\n",
            "55/55 [==============================] - 200s 4s/step - loss: 2.7539 - accuracy: 0.1095 - val_loss: 2.2691 - val_accuracy: 0.1226\n",
            "Epoch 3/10\n",
            "55/55 [==============================] - 202s 4s/step - loss: 2.6399 - accuracy: 0.1140 - val_loss: 2.2685 - val_accuracy: 0.1226\n",
            "Epoch 4/10\n",
            "55/55 [==============================] - 200s 4s/step - loss: 2.5540 - accuracy: 0.1164 - val_loss: 2.2689 - val_accuracy: 0.1065\n",
            "Epoch 5/10\n",
            "55/55 [==============================] - 200s 4s/step - loss: 2.5295 - accuracy: 0.1140 - val_loss: 2.2674 - val_accuracy: 0.1145\n",
            "Epoch 6/10\n",
            "55/55 [==============================] - 199s 4s/step - loss: 2.5067 - accuracy: 0.1107 - val_loss: 2.2685 - val_accuracy: 0.1065\n",
            "Epoch 7/10\n",
            "55/55 [==============================] - 199s 4s/step - loss: 2.4585 - accuracy: 0.1171 - val_loss: 2.2699 - val_accuracy: 0.1145\n",
            "Epoch 8/10\n",
            "55/55 [==============================] - 200s 4s/step - loss: 2.4315 - accuracy: 0.1138 - val_loss: 2.2679 - val_accuracy: 0.1065\n",
            "Epoch 9/10\n",
            "55/55 [==============================] - 199s 4s/step - loss: 2.4334 - accuracy: 0.1107 - val_loss: 2.2704 - val_accuracy: 0.1226\n",
            "Epoch 10/10\n",
            "55/55 [==============================] - 202s 4s/step - loss: 2.3904 - accuracy: 0.1150 - val_loss: 2.2698 - val_accuracy: 0.1031\n",
            "28/28 [==============================] - 7s 254ms/step - loss: 2.2742 - accuracy: 0.1224\n",
            "Epoch 1/10\n",
            "55/55 [==============================] - 177s 3s/step - loss: nan - accuracy: 0.1152 - val_loss: nan - val_accuracy: 0.1237\n",
            "Epoch 2/10\n",
            "55/55 [==============================] - 176s 3s/step - loss: nan - accuracy: 0.1152 - val_loss: nan - val_accuracy: 0.1237\n",
            "Epoch 3/10\n",
            "55/55 [==============================] - 176s 3s/step - loss: nan - accuracy: 0.1152 - val_loss: nan - val_accuracy: 0.1237\n",
            "Epoch 4/10\n",
            "55/55 [==============================] - 176s 3s/step - loss: nan - accuracy: 0.1152 - val_loss: nan - val_accuracy: 0.1237\n",
            "Epoch 5/10\n",
            "55/55 [==============================] - 178s 3s/step - loss: nan - accuracy: 0.1152 - val_loss: nan - val_accuracy: 0.1237\n",
            "Epoch 6/10\n",
            "55/55 [==============================] - 176s 3s/step - loss: nan - accuracy: 0.1152 - val_loss: nan - val_accuracy: 0.1237\n",
            "Epoch 7/10\n",
            "55/55 [==============================] - 177s 3s/step - loss: nan - accuracy: 0.1152 - val_loss: nan - val_accuracy: 0.1237\n",
            "Epoch 8/10\n",
            "55/55 [==============================] - 177s 3s/step - loss: nan - accuracy: 0.1152 - val_loss: nan - val_accuracy: 0.1237\n",
            "Epoch 9/10\n",
            "55/55 [==============================] - 177s 3s/step - loss: nan - accuracy: 0.1152 - val_loss: nan - val_accuracy: 0.1237\n",
            "Epoch 10/10\n",
            "55/55 [==============================] - 176s 3s/step - loss: nan - accuracy: 0.1152 - val_loss: nan - val_accuracy: 0.1237\n",
            "28/28 [==============================] - 6s 230ms/step - loss: nan - accuracy: 0.0995\n"
          ]
        }
      ]
    },
    {
      "cell_type": "code",
      "source": [
        "for i in scores:\n",
        "  print(i)"
      ],
      "metadata": {
        "colab": {
          "base_uri": "https://localhost:8080/"
        },
        "id": "AZ_C6EXj5mF0",
        "outputId": "4a2de419-9cf8-47eb-e917-1ccc209a52cb"
      },
      "execution_count": 20,
      "outputs": [
        {
          "output_type": "stream",
          "name": "stdout",
          "text": [
            "('relu', [2.2680087089538574, 0.10640732198953629])\n",
            "('sigmoid', [2.268937349319458, 0.10640732198953629])\n",
            "('elu', [2.2742156982421875, 0.1224256306886673])\n",
            "('exponential', [nan, 0.09954233467578888])\n"
          ]
        }
      ]
    },
    {
      "cell_type": "markdown",
      "source": [
        "There is the results of the hyperparameter optimization;\n",
        "Elu activation function is better than others about accuracy value. Furthermore, reLu is better than others about loss value."
      ],
      "metadata": {
        "id": "-Ee39dvd9sKH"
      }
    }
  ]
}